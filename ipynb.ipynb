{
  "nbformat": 4,
  "nbformat_minor": 0,
  "metadata": {
    "colab": {
      "provenance": [],
      "authorship_tag": "ABX9TyPPYrW8POZCueac05yw0/2E",
      "include_colab_link": true
    },
    "kernelspec": {
      "name": "python3",
      "display_name": "Python 3"
    },
    "language_info": {
      "name": "python"
    }
  },
  "cells": [
    {
      "cell_type": "markdown",
      "metadata": {
        "id": "view-in-github",
        "colab_type": "text"
      },
      "source": [
        "<a href=\"https://colab.research.google.com/github/festuge/etech-python/blob/main/ipynb.ipynb\" target=\"_parent\"><img src=\"https://colab.research.google.com/assets/colab-badge.svg\" alt=\"Open In Colab\"/></a>"
      ]
    },
    {
      "cell_type": "code",
      "execution_count": 1,
      "metadata": {
        "colab": {
          "base_uri": "https://localhost:8080/"
        },
        "id": "KsnPsfWVtRDh",
        "outputId": "ed9c0b98-9710-4a18-c2fe-dcc60adec2c2"
      },
      "outputs": [
        {
          "output_type": "execute_result",
          "data": {
            "text/plain": [
              "40.0"
            ]
          },
          "metadata": {},
          "execution_count": 1
        }
      ],
      "source": [
        "x = 23.0\n",
        "y = 17\n",
        "\n",
        "x + y"
      ]
    },
    {
      "cell_type": "code",
      "source": [
        "type(x)"
      ],
      "metadata": {
        "colab": {
          "base_uri": "https://localhost:8080/"
        },
        "id": "dYwSGL9jt_Cn",
        "outputId": "9887ee05-e37f-4344-aa60-747eb0bc2141"
      },
      "execution_count": 2,
      "outputs": [
        {
          "output_type": "execute_result",
          "data": {
            "text/plain": [
              "float"
            ]
          },
          "metadata": {},
          "execution_count": 2
        }
      ]
    },
    {
      "cell_type": "markdown",
      "source": [
        "introduction to strings"
      ],
      "metadata": {
        "id": "EwuG0yQDvv7U"
      }
    },
    {
      "cell_type": "code",
      "source": [
        "z = 'Claudi is 33 years old.'\n",
        "w = 'Claudi is running late!'\n",
        "\n",
        "z + w"
      ],
      "metadata": {
        "colab": {
          "base_uri": "https://localhost:8080/",
          "height": 35
        },
        "id": "GDRBz60IvyZb",
        "outputId": "83a8da90-be1d-4b23-b3ac-0a1a24b411aa"
      },
      "execution_count": 3,
      "outputs": [
        {
          "output_type": "execute_result",
          "data": {
            "text/plain": [
              "'Claudi is 33 years old.Claudi is running late!'"
            ],
            "application/vnd.google.colaboratory.intrinsic+json": {
              "type": "string"
            }
          },
          "metadata": {},
          "execution_count": 3
        }
      ]
    },
    {
      "cell_type": "code",
      "source": [
        "print(type(z))\n",
        "print(type(w))"
      ],
      "metadata": {
        "colab": {
          "base_uri": "https://localhost:8080/"
        },
        "id": "UKqGF9qlwIe2",
        "outputId": "da34b5eb-88a5-4511-faf3-260d5dae025e"
      },
      "execution_count": 5,
      "outputs": [
        {
          "output_type": "stream",
          "name": "stdout",
          "text": [
            "<class 'str'>\n",
            "<class 'str'>\n"
          ]
        }
      ]
    },
    {
      "cell_type": "markdown",
      "source": [
        "mini project"
      ],
      "metadata": {
        "id": "TAJMTpsUxmU1"
      }
    },
    {
      "cell_type": "code",
      "source": [
        "monthly_income = 5000\n",
        "tax_rate = 0.184\n",
        "rent = 1200\n",
        "food = 320\n",
        "wifi = 100\n",
        "transport = 300\n",
        "misc = 400"
      ],
      "metadata": {
        "id": "9zRQOWJDxp1M"
      },
      "execution_count": 8,
      "outputs": []
    },
    {
      "cell_type": "code",
      "source": [
        "# income after tax:\n",
        "At_income = monthly_income * (1-tax_rate)\n",
        "print(At_income)"
      ],
      "metadata": {
        "colab": {
          "base_uri": "https://localhost:8080/"
        },
        "id": "TgFeGpnKy4Ng",
        "outputId": "5e4aa489-4cea-4d94-9d59-20bd112ac17f"
      },
      "execution_count": 9,
      "outputs": [
        {
          "output_type": "stream",
          "name": "stdout",
          "text": [
            "4080.0000000000005\n"
          ]
        }
      ]
    },
    {
      "cell_type": "markdown",
      "source": [
        "to check total expenses"
      ],
      "metadata": {
        "id": "9aUZmXbS1wR1"
      }
    },
    {
      "cell_type": "code",
      "source": [
        "# total expenses\n",
        "expenses = rent + food + wifi + transport + misc\n",
        "print(expenses)"
      ],
      "metadata": {
        "colab": {
          "base_uri": "https://localhost:8080/"
        },
        "id": "1Y6NY3Z1109t",
        "outputId": "da824ebf-9b71-43c8-af91-bb86bced299a"
      },
      "execution_count": 10,
      "outputs": [
        {
          "output_type": "stream",
          "name": "stdout",
          "text": [
            "2320\n"
          ]
        }
      ]
    },
    {
      "cell_type": "markdown",
      "source": [
        "whats left?"
      ],
      "metadata": {
        "id": "kb0lNxV02kao"
      }
    },
    {
      "cell_type": "code",
      "source": [
        "At_income - expenses"
      ],
      "metadata": {
        "colab": {
          "base_uri": "https://localhost:8080/"
        },
        "id": "dsw7N5dq2mDK",
        "outputId": "8c7548f8-53d4-4b4d-fc2e-bd9e35039df5"
      },
      "execution_count": 12,
      "outputs": [
        {
          "output_type": "execute_result",
          "data": {
            "text/plain": [
              "1760.0000000000005"
            ]
          },
          "metadata": {},
          "execution_count": 12
        }
      ]
    },
    {
      "cell_type": "markdown",
      "source": [
        "Let's find out how many months we are going to save to be able to afford expenses for 6 months. how many months are we gonna save"
      ],
      "metadata": {
        "id": "IL_bjRyo37wB"
      }
    },
    {
      "cell_type": "code",
      "source": [
        "max_savings = At_income - expenses\n",
        "(expenses * 6) / max_savings        #eqn to calculate number of months to be able to cover 6 month's expenses"
      ],
      "metadata": {
        "colab": {
          "base_uri": "https://localhost:8080/"
        },
        "id": "HJ9n8Npu4ImK",
        "outputId": "1b4a6f7c-4891-4088-cba4-10801c7d83e8"
      },
      "execution_count": 14,
      "outputs": [
        {
          "output_type": "execute_result",
          "data": {
            "text/plain": [
              "7.909090909090907"
            ]
          },
          "metadata": {},
          "execution_count": 14
        }
      ]
    },
    {
      "cell_type": "code",
      "source": [
        "x = 23\n",
        "z = 'Claudi is '\n",
        "z + str(x)"
      ],
      "metadata": {
        "colab": {
          "base_uri": "https://localhost:8080/",
          "height": 35
        },
        "id": "_02vyP2_AUC1",
        "outputId": "f8641cc6-128a-4054-f134-48ccd2072e76"
      },
      "execution_count": 19,
      "outputs": [
        {
          "output_type": "execute_result",
          "data": {
            "text/plain": [
              "'Claudi is 23'"
            ],
            "application/vnd.google.colaboratory.intrinsic+json": {
              "type": "string"
            }
          },
          "metadata": {},
          "execution_count": 19
        }
      ]
    },
    {
      "cell_type": "markdown",
      "source": [
        "dictionaries"
      ],
      "metadata": {
        "id": "wl3t-nmHD4HK"
      }
    },
    {
      "cell_type": "code",
      "source": [
        "activities = {'rain': 'read a book',\n",
        "              'sunny': 'go for a swim',\n",
        "              'snowy': 'build a fire'\n",
        "              }\n",
        "# dictionaries can be made with other data types\n",
        "\n",
        "numbers = {'one': 1,\n",
        "           'two': 2.0,\n",
        "           'three': 3\n",
        "           }"
      ],
      "metadata": {
        "id": "DFzIPD2uD7t4"
      },
      "execution_count": 22,
      "outputs": []
    },
    {
      "cell_type": "code",
      "source": [
        "numbers['two']"
      ],
      "metadata": {
        "colab": {
          "base_uri": "https://localhost:8080/"
        },
        "id": "iqgh1zc-GLgt",
        "outputId": "eb4735c0-ad26-46ec-8cdc-1ae13c67d80d"
      },
      "execution_count": 24,
      "outputs": [
        {
          "output_type": "execute_result",
          "data": {
            "text/plain": [
              "2.0"
            ]
          },
          "metadata": {},
          "execution_count": 24
        }
      ]
    },
    {
      "cell_type": "code",
      "source": [],
      "metadata": {
        "id": "6lSnZo6bGkCM"
      },
      "execution_count": null,
      "outputs": []
    }
  ]
}